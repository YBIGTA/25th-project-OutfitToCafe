{
 "cells": [
  {
   "cell_type": "code",
   "execution_count": 5,
   "metadata": {},
   "outputs": [
    {
     "name": "stdout",
     "output_type": "stream",
     "text": [
      "Total number of images copied: 1600\n"
     ]
    }
   ],
   "source": [
    "import os\n",
    "import shutil\n",
    "from PIL import Image\n",
    "\n",
    "# 원본 이미지 파일이 들어있는 폴더 경로를 지정합니다.\n",
    "source_folder_path = '/Users/macbook/Documents/YBIGTA_24_SUMMER_PROJECT/musinsa_crawling/musinsa_image/클래식'\n",
    "\n",
    "# 이미지를 복사할 대상 폴더 경로를 지정합니다.\n",
    "destination_folder_path = '/Users/macbook/Documents/YBIGTA_24_SUMMER_PROJECT/musinsa_crawling/musinsa_image/클래식_1600'\n",
    "\n",
    "# 대상 폴더가 존재하지 않으면 생성합니다.\n",
    "os.makedirs(destination_folder_path, exist_ok=True)\n",
    "\n",
    "# 원본 폴더 내의 모든 jpg 파일 경로를 가져옵니다.\n",
    "image_files = [os.path.join(source_folder_path, f) for f in os.listdir(source_folder_path) if f.endswith('.jpg')]\n",
    "\n",
    "# 파일을 생성된 날짜 순으로 정렬합니다.\n",
    "image_files.sort(key=lambda x: os.path.getctime(x))\n",
    "\n",
    "# 최대 1600장의 이미지만 가져옵니다.\n",
    "image_files = image_files[:1600]\n",
    "\n",
    "# 이미지를 대상 폴더로 복사합니다.\n",
    "for image_file in image_files:\n",
    "    shutil.copy(image_file, destination_folder_path)\n",
    "\n",
    "print(f'Total number of images copied: {len(image_files)}')\n"
   ]
  },
  {
   "cell_type": "markdown",
   "metadata": {},
   "source": [
    "클래식 1600"
   ]
  },
  {
   "cell_type": "code",
   "execution_count": 6,
   "metadata": {},
   "outputs": [
    {
     "name": "stdout",
     "output_type": "stream",
     "text": [
      "Total number of images copied: 1600\n"
     ]
    }
   ],
   "source": [
    "import os\n",
    "import shutil\n",
    "from PIL import Image\n",
    "\n",
    "# 원본 이미지 파일이 들어있는 폴더 경로를 지정합니다.\n",
    "source_folder_path = '/Users/macbook/Documents/YBIGTA_24_SUMMER_PROJECT/musinsa_crawling/musinsa_image/클래식'\n",
    "\n",
    "# 이미지를 복사할 대상 폴더 경로를 지정합니다.\n",
    "destination_folder_path = '/Users/macbook/Documents/YBIGTA_24_SUMMER_PROJECT/musinsa_crawling/musinsa_image/클래식_1600'\n",
    "\n",
    "# 대상 폴더가 존재하지 않으면 생성합니다.\n",
    "os.makedirs(destination_folder_path, exist_ok=True)\n",
    "\n",
    "# 원본 폴더 내의 모든 jpg 파일 경로를 가져옵니다.\n",
    "image_files = [os.path.join(source_folder_path, f) for f in os.listdir(source_folder_path) if f.endswith('.jpg')]\n",
    "\n",
    "# 파일을 생성된 날짜 순으로 정렬합니다.\n",
    "image_files.sort(key=lambda x: os.path.getctime(x))\n",
    "\n",
    "# 리스트를 뒤집어 뒤에서부터 1600장 추출합니다.\n",
    "image_files = image_files[-1600:]\n",
    "\n",
    "# 이미지를 대상 폴더로 복사합니다.\n",
    "for image_file in image_files:\n",
    "    shutil.copy(image_file, destination_folder_path)\n",
    "\n",
    "print(f'Total number of images copied: {len(image_files)}')\n"
   ]
  },
  {
   "cell_type": "markdown",
   "metadata": {},
   "source": [
    "워크웨어 1600"
   ]
  },
  {
   "cell_type": "code",
   "execution_count": 7,
   "metadata": {},
   "outputs": [
    {
     "name": "stdout",
     "output_type": "stream",
     "text": [
      "Total number of images copied: 1600\n"
     ]
    }
   ],
   "source": [
    "import os\n",
    "import shutil\n",
    "from PIL import Image\n",
    "\n",
    "# 원본 이미지 파일이 들어있는 폴더 경로를 지정합니다.\n",
    "source_folder_path = '/Users/macbook/Documents/YBIGTA_24_SUMMER_PROJECT/musinsa_crawling/musinsa_image/워크웨어'\n",
    "\n",
    "# 이미지를 복사할 대상 폴더 경로를 지정합니다.\n",
    "destination_folder_path = '/Users/macbook/Documents/YBIGTA_24_SUMMER_PROJECT/musinsa_crawling/musinsa_image/워크웨어_1600'\n",
    "\n",
    "# 대상 폴더가 존재하지 않으면 생성합니다.\n",
    "os.makedirs(destination_folder_path, exist_ok=True)\n",
    "\n",
    "# 원본 폴더 내의 모든 jpg 파일 경로를 가져옵니다.\n",
    "image_files = [os.path.join(source_folder_path, f) for f in os.listdir(source_folder_path) if f.endswith('.jpg')]\n",
    "\n",
    "# 파일을 생성된 날짜 순으로 정렬합니다.\n",
    "image_files.sort(key=lambda x: os.path.getctime(x))\n",
    "\n",
    "# 리스트를 뒤집어 뒤에서부터 1600장 추출합니다.\n",
    "image_files = image_files[-1600:]\n",
    "\n",
    "# 이미지를 대상 폴더로 복사합니다.\n",
    "for image_file in image_files:\n",
    "    shutil.copy(image_file, destination_folder_path)\n",
    "\n",
    "print(f'Total number of images copied: {len(image_files)}')\n"
   ]
  },
  {
   "cell_type": "code",
   "execution_count": 10,
   "metadata": {},
   "outputs": [
    {
     "name": "stdout",
     "output_type": "stream",
     "text": [
      "Total number of images copied: 1600\n"
     ]
    }
   ],
   "source": [
    "import os\n",
    "import shutil\n",
    "from PIL import Image\n",
    "\n",
    "# 원본 이미지 파일이 들어있는 폴더 경로를 지정합니다.\n",
    "source_folder_path = '/Users/macbook/Documents/YBIGTA_24_SUMMER_PROJECT/musinsa_crawling/musinsa_image/시크'\n",
    "\n",
    "# 이미지를 복사할 대상 폴더 경로를 지정합니다.\n",
    "destination_folder_path = '/Users/macbook/Documents/YBIGTA_24_SUMMER_PROJECT/musinsa_crawling/musinsa_image/시크_1600'\n",
    "\n",
    "# 대상 폴더가 존재하지 않으면 생성합니다.\n",
    "os.makedirs(destination_folder_path, exist_ok=True)\n",
    "\n",
    "# 원본 폴더 내의 모든 jpg 파일 경로를 가져옵니다.\n",
    "image_files = [os.path.join(source_folder_path, f) for f in os.listdir(source_folder_path) if f.endswith('.jpg')]\n",
    "\n",
    "# 파일을 생성된 날짜 순으로 정렬합니다.\n",
    "image_files.sort(key=lambda x: os.path.getctime(x))\n",
    "\n",
    "# 리스트를 뒤집어 뒤에서부터 1600장 추출합니다.\n",
    "image_files = image_files[:1600]\n",
    "\n",
    "# 이미지를 대상 폴더로 복사합니다.\n",
    "for image_file in image_files:\n",
    "    shutil.copy(image_file, destination_folder_path)\n",
    "\n",
    "print(f'Total number of images copied: {len(image_files)}')\n"
   ]
  },
  {
   "cell_type": "code",
   "execution_count": 11,
   "metadata": {},
   "outputs": [
    {
     "name": "stdout",
     "output_type": "stream",
     "text": [
      "Total number of images copied: 1600\n"
     ]
    }
   ],
   "source": [
    "import os\n",
    "import shutil\n",
    "from PIL import Image\n",
    "\n",
    "# 원본 이미지 파일이 들어있는 폴더 경로를 지정합니다.\n",
    "source_folder_path = '/Users/macbook/Documents/YBIGTA_24_SUMMER_PROJECT/musinsa_crawling/musinsa_image/미니멀'\n",
    "\n",
    "# 이미지를 복사할 대상 폴더 경로를 지정합니다.\n",
    "destination_folder_path = '/Users/macbook/Documents/YBIGTA_24_SUMMER_PROJECT/musinsa_crawling/musinsa_image/미니멀_1600'\n",
    "\n",
    "# 대상 폴더가 존재하지 않으면 생성합니다.\n",
    "os.makedirs(destination_folder_path, exist_ok=True)\n",
    "\n",
    "# 원본 폴더 내의 모든 jpg 파일 경로를 가져옵니다.\n",
    "image_files = [os.path.join(source_folder_path, f) for f in os.listdir(source_folder_path) if f.endswith('.jpg')]\n",
    "\n",
    "# 파일을 생성된 날짜 순으로 정렬합니다.\n",
    "image_files.sort(key=lambda x: os.path.getctime(x))\n",
    "\n",
    "# 리스트를 뒤집어 뒤에서부터 1600장 추출합니다.\n",
    "image_files = image_files[:1600]\n",
    "\n",
    "# 이미지를 대상 폴더로 복사합니다.\n",
    "for image_file in image_files:\n",
    "    shutil.copy(image_file, destination_folder_path)\n",
    "\n",
    "print(f'Total number of images copied: {len(image_files)}')\n"
   ]
  },
  {
   "cell_type": "code",
   "execution_count": 1,
   "metadata": {},
   "outputs": [
    {
     "name": "stdout",
     "output_type": "stream",
     "text": [
      "Total number of images copied: 1600\n"
     ]
    }
   ],
   "source": [
    "import os\n",
    "import shutil\n",
    "from PIL import Image\n",
    "\n",
    "# 원본 이미지 파일이 들어있는 폴더 경로를 지정합니다.\n",
    "source_folder_path = '/Users/macbook/Documents/YBIGTA_24_SUMMER_PROJECT/musinsa_crawling/musinsa_image/고프코어'\n",
    "\n",
    "# 이미지를 복사할 대상 폴더 경로를 지정합니다.\n",
    "destination_folder_path = '/Users/macbook/Documents/YBIGTA_24_SUMMER_PROJECT/musinsa_crawling/musinsa_image/고프코어_1600'\n",
    "\n",
    "# 대상 폴더가 존재하지 않으면 생성합니다.\n",
    "os.makedirs(destination_folder_path, exist_ok=True)\n",
    "\n",
    "# 원본 폴더 내의 모든 jpg 파일 경로를 가져옵니다.\n",
    "image_files = [os.path.join(source_folder_path, f) for f in os.listdir(source_folder_path) if f.endswith('.jpg')]\n",
    "\n",
    "# 파일을 생성된 날짜 순으로 정렬합니다.\n",
    "image_files.sort(key=lambda x: os.path.getctime(x))\n",
    "\n",
    "# 리스트를 1600장 추출합니다.\n",
    "image_files = image_files[:1600]\n",
    "\n",
    "# 이미지를 대상 폴더로 복사합니다.\n",
    "for image_file in image_files:\n",
    "    shutil.copy(image_file, destination_folder_path)\n",
    "\n",
    "print(f'Total number of images copied: {len(image_files)}')\n"
   ]
  }
 ],
 "metadata": {
  "kernelspec": {
   "display_name": "Python 3",
   "language": "python",
   "name": "python3"
  },
  "language_info": {
   "codemirror_mode": {
    "name": "ipython",
    "version": 3
   },
   "file_extension": ".py",
   "mimetype": "text/x-python",
   "name": "python",
   "nbconvert_exporter": "python",
   "pygments_lexer": "ipython3",
   "version": "3.10.14"
  }
 },
 "nbformat": 4,
 "nbformat_minor": 2
}
