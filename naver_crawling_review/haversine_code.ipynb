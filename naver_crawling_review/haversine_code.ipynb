{
 "cells": [
  {
   "cell_type": "code",
   "execution_count": 1,
   "id": "cc90306d",
   "metadata": {},
   "outputs": [
    {
     "name": "stderr",
     "output_type": "stream",
     "text": [
      "/var/folders/6x/d1mwv9q94852n8332f_mwq5c0000gn/T/ipykernel_53048/3176686169.py:2: DtypeWarning: Columns (2) have mixed types. Specify dtype option on import or set low_memory=False.\n",
      "  data = pd.read_csv('./소상공인시장진흥공단_상가(상권)정보_서울_202403.csv')\n"
     ]
    }
   ],
   "source": [
    "import pandas as pd\n",
    "data = pd.read_csv('./소상공인시장진흥공단_상가(상권)정보_서울_202403.csv')"
   ]
  },
  {
   "cell_type": "code",
   "execution_count": 2,
   "id": "df448034",
   "metadata": {},
   "outputs": [
    {
     "data": {
      "text/plain": [
       "21325"
      ]
     },
     "execution_count": 2,
     "metadata": {},
     "output_type": "execute_result"
    }
   ],
   "source": [
    "df = data[data['상권업종소분류명'] == '카페']\n",
    "len(df)"
   ]
  },
  {
   "cell_type": "code",
   "execution_count": 3,
   "id": "cc7ae7a8",
   "metadata": {},
   "outputs": [
    {
     "name": "stdout",
     "output_type": "stream",
     "text": [
      "3301          커피온리팔공티\n",
      "12038           폴린커피바\n",
      "12480     투썸플레이스성수SKV\n",
      "12682         로우커피스탠드\n",
      "14230        커피베이성수세종\n",
      "             ...     \n",
      "466009      커피냅로스터스성수\n",
      "467250             도렐\n",
      "471907          에프씨에스\n",
      "473024          오우드성수\n",
      "473912     스노우엠유한책임회사\n",
      "Name: 상호명, Length: 113, dtype: object\n"
     ]
    },
    {
     "name": "stderr",
     "output_type": "stream",
     "text": [
      "/var/folders/6x/d1mwv9q94852n8332f_mwq5c0000gn/T/ipykernel_53048/3785467880.py:27: SettingWithCopyWarning: \n",
      "A value is trying to be set on a copy of a slice from a DataFrame.\n",
      "Try using .loc[row_indexer,col_indexer] = value instead\n",
      "\n",
      "See the caveats in the documentation: https://pandas.pydata.org/pandas-docs/stable/user_guide/indexing.html#returning-a-view-versus-a-copy\n",
      "  df['distance'] = df.apply(lambda row: haversine(reference_lat, reference_lon, row['위도'], row['경도']), axis=1)\n"
     ]
    }
   ],
   "source": [
    "import pandas as pd\n",
    "from math import radians, cos, sin, sqrt, atan2\n",
    "\n",
    "# 기준 위도와 경도 (성수역의 위경도)\n",
    "reference_lat = 37.54431924314278\n",
    "reference_lon = 127.05643116143955\n",
    "\n",
    "# Haversine 공식 사용\n",
    "def haversine(lat1, lon1, lat2, lon2):\n",
    "    R = 6371  # 지구의 반경 (km)\n",
    "    \n",
    "    # 위도와 경도를 라디안으로 변환\n",
    "    lat1, lon1, lat2, lon2 = map(radians, [lat1, lon1, lat2, lon2])\n",
    "    \n",
    "    # 위도와 경도의 차이 계산\n",
    "    dlat = lat2 - lat1\n",
    "    dlon = lon2 - lon1\n",
    "    \n",
    "    # Haversine 공식 적용\n",
    "    a = sin(dlat / 2)**2 + cos(lat1) * cos(lat2) * sin(dlon / 2)**2\n",
    "    c = 2 * atan2(sqrt(a), sqrt(1 - a))\n",
    "    distance = R * c * 1000  # 거리 (m)로 변환\n",
    "    \n",
    "    return distance\n",
    "\n",
    "# 각 카페와 기준점 사이의 거리 계산\n",
    "df['distance'] = df.apply(lambda row: haversine(reference_lat, reference_lon, row['위도'], row['경도']), axis=1)\n",
    "\n",
    "# Nm 내의 카페 필터링\n",
    "N = 500\n",
    "filtered_cafes = df[df['distance'] <= N]\n",
    "\n",
    "\n",
    "# 결과 출력\n",
    "print(filtered_cafes['상호명'])"
   ]
  },
  {
   "cell_type": "code",
   "execution_count": null,
   "id": "e976c517",
   "metadata": {},
   "outputs": [],
   "source": []
  }
 ],
 "metadata": {
  "kernelspec": {
   "display_name": "Python 3 (ipykernel)",
   "language": "python",
   "name": "python3"
  },
  "language_info": {
   "codemirror_mode": {
    "name": "ipython",
    "version": 3
   },
   "file_extension": ".py",
   "mimetype": "text/x-python",
   "name": "python",
   "nbconvert_exporter": "python",
   "pygments_lexer": "ipython3",
   "version": "3.11.3"
  }
 },
 "nbformat": 4,
 "nbformat_minor": 5
}
