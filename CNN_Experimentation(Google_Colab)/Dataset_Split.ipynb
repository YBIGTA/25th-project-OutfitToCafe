{
  "cells": [
    {
      "cell_type": "code",
      "execution_count": null,
      "metadata": {
        "colab": {
          "background_save": true,
          "base_uri": "https://localhost:8080/"
        },
        "id": "bedJRR2nnIY6",
        "outputId": "e6c03c2f-221d-4e44-b63e-5d4f78b7aee7"
      },
      "outputs": [
        {
          "ename": "MessageError",
          "evalue": "Error: credential propagation was unsuccessful",
          "output_type": "error",
          "traceback": [
            "\u001b[0;31m---------------------------------------------------------------------------\u001b[0m",
            "\u001b[0;31mMessageError\u001b[0m                              Traceback (most recent call last)",
            "\u001b[0;32m<ipython-input-1-d5df0069828e>\u001b[0m in \u001b[0;36m<cell line: 2>\u001b[0;34m()\u001b[0m\n\u001b[1;32m      1\u001b[0m \u001b[0;32mfrom\u001b[0m \u001b[0mgoogle\u001b[0m\u001b[0;34m.\u001b[0m\u001b[0mcolab\u001b[0m \u001b[0;32mimport\u001b[0m \u001b[0mdrive\u001b[0m\u001b[0;34m\u001b[0m\u001b[0;34m\u001b[0m\u001b[0m\n\u001b[0;32m----> 2\u001b[0;31m \u001b[0mdrive\u001b[0m\u001b[0;34m.\u001b[0m\u001b[0mmount\u001b[0m\u001b[0;34m(\u001b[0m\u001b[0;34m'/content/drive'\u001b[0m\u001b[0;34m)\u001b[0m\u001b[0;34m\u001b[0m\u001b[0;34m\u001b[0m\u001b[0m\n\u001b[0m",
            "\u001b[0;32m/usr/local/lib/python3.10/dist-packages/google/colab/drive.py\u001b[0m in \u001b[0;36mmount\u001b[0;34m(mountpoint, force_remount, timeout_ms, readonly)\u001b[0m\n\u001b[1;32m     98\u001b[0m \u001b[0;32mdef\u001b[0m \u001b[0mmount\u001b[0m\u001b[0;34m(\u001b[0m\u001b[0mmountpoint\u001b[0m\u001b[0;34m,\u001b[0m \u001b[0mforce_remount\u001b[0m\u001b[0;34m=\u001b[0m\u001b[0;32mFalse\u001b[0m\u001b[0;34m,\u001b[0m \u001b[0mtimeout_ms\u001b[0m\u001b[0;34m=\u001b[0m\u001b[0;36m120000\u001b[0m\u001b[0;34m,\u001b[0m \u001b[0mreadonly\u001b[0m\u001b[0;34m=\u001b[0m\u001b[0;32mFalse\u001b[0m\u001b[0;34m)\u001b[0m\u001b[0;34m:\u001b[0m\u001b[0;34m\u001b[0m\u001b[0;34m\u001b[0m\u001b[0m\n\u001b[1;32m     99\u001b[0m   \u001b[0;34m\"\"\"Mount your Google Drive at the specified mountpoint path.\"\"\"\u001b[0m\u001b[0;34m\u001b[0m\u001b[0;34m\u001b[0m\u001b[0m\n\u001b[0;32m--> 100\u001b[0;31m   return _mount(\n\u001b[0m\u001b[1;32m    101\u001b[0m       \u001b[0mmountpoint\u001b[0m\u001b[0;34m,\u001b[0m\u001b[0;34m\u001b[0m\u001b[0;34m\u001b[0m\u001b[0m\n\u001b[1;32m    102\u001b[0m       \u001b[0mforce_remount\u001b[0m\u001b[0;34m=\u001b[0m\u001b[0mforce_remount\u001b[0m\u001b[0;34m,\u001b[0m\u001b[0;34m\u001b[0m\u001b[0;34m\u001b[0m\u001b[0m\n",
            "\u001b[0;32m/usr/local/lib/python3.10/dist-packages/google/colab/drive.py\u001b[0m in \u001b[0;36m_mount\u001b[0;34m(mountpoint, force_remount, timeout_ms, ephemeral, readonly)\u001b[0m\n\u001b[1;32m    131\u001b[0m   )\n\u001b[1;32m    132\u001b[0m   \u001b[0;32mif\u001b[0m \u001b[0mephemeral\u001b[0m\u001b[0;34m:\u001b[0m\u001b[0;34m\u001b[0m\u001b[0;34m\u001b[0m\u001b[0m\n\u001b[0;32m--> 133\u001b[0;31m     _message.blocking_request(\n\u001b[0m\u001b[1;32m    134\u001b[0m         \u001b[0;34m'request_auth'\u001b[0m\u001b[0;34m,\u001b[0m\u001b[0;34m\u001b[0m\u001b[0;34m\u001b[0m\u001b[0m\n\u001b[1;32m    135\u001b[0m         \u001b[0mrequest\u001b[0m\u001b[0;34m=\u001b[0m\u001b[0;34m{\u001b[0m\u001b[0;34m'authType'\u001b[0m\u001b[0;34m:\u001b[0m \u001b[0;34m'dfs_ephemeral'\u001b[0m\u001b[0;34m}\u001b[0m\u001b[0;34m,\u001b[0m\u001b[0;34m\u001b[0m\u001b[0;34m\u001b[0m\u001b[0m\n",
            "\u001b[0;32m/usr/local/lib/python3.10/dist-packages/google/colab/_message.py\u001b[0m in \u001b[0;36mblocking_request\u001b[0;34m(request_type, request, timeout_sec, parent)\u001b[0m\n\u001b[1;32m    174\u001b[0m       \u001b[0mrequest_type\u001b[0m\u001b[0;34m,\u001b[0m \u001b[0mrequest\u001b[0m\u001b[0;34m,\u001b[0m \u001b[0mparent\u001b[0m\u001b[0;34m=\u001b[0m\u001b[0mparent\u001b[0m\u001b[0;34m,\u001b[0m \u001b[0mexpect_reply\u001b[0m\u001b[0;34m=\u001b[0m\u001b[0;32mTrue\u001b[0m\u001b[0;34m\u001b[0m\u001b[0;34m\u001b[0m\u001b[0m\n\u001b[1;32m    175\u001b[0m   )\n\u001b[0;32m--> 176\u001b[0;31m   \u001b[0;32mreturn\u001b[0m \u001b[0mread_reply_from_input\u001b[0m\u001b[0;34m(\u001b[0m\u001b[0mrequest_id\u001b[0m\u001b[0;34m,\u001b[0m \u001b[0mtimeout_sec\u001b[0m\u001b[0;34m)\u001b[0m\u001b[0;34m\u001b[0m\u001b[0;34m\u001b[0m\u001b[0m\n\u001b[0m",
            "\u001b[0;32m/usr/local/lib/python3.10/dist-packages/google/colab/_message.py\u001b[0m in \u001b[0;36mread_reply_from_input\u001b[0;34m(message_id, timeout_sec)\u001b[0m\n\u001b[1;32m    101\u001b[0m     ):\n\u001b[1;32m    102\u001b[0m       \u001b[0;32mif\u001b[0m \u001b[0;34m'error'\u001b[0m \u001b[0;32min\u001b[0m \u001b[0mreply\u001b[0m\u001b[0;34m:\u001b[0m\u001b[0;34m\u001b[0m\u001b[0;34m\u001b[0m\u001b[0m\n\u001b[0;32m--> 103\u001b[0;31m         \u001b[0;32mraise\u001b[0m \u001b[0mMessageError\u001b[0m\u001b[0;34m(\u001b[0m\u001b[0mreply\u001b[0m\u001b[0;34m[\u001b[0m\u001b[0;34m'error'\u001b[0m\u001b[0;34m]\u001b[0m\u001b[0;34m)\u001b[0m\u001b[0;34m\u001b[0m\u001b[0;34m\u001b[0m\u001b[0m\n\u001b[0m\u001b[1;32m    104\u001b[0m       \u001b[0;32mreturn\u001b[0m \u001b[0mreply\u001b[0m\u001b[0;34m.\u001b[0m\u001b[0mget\u001b[0m\u001b[0;34m(\u001b[0m\u001b[0;34m'data'\u001b[0m\u001b[0;34m,\u001b[0m \u001b[0;32mNone\u001b[0m\u001b[0;34m)\u001b[0m\u001b[0;34m\u001b[0m\u001b[0;34m\u001b[0m\u001b[0m\n\u001b[1;32m    105\u001b[0m \u001b[0;34m\u001b[0m\u001b[0m\n",
            "\u001b[0;31mMessageError\u001b[0m: Error: credential propagation was unsuccessful"
          ]
        }
      ],
      "source": [
        "from google.colab import drive\n",
        "drive.mount('/content/drive')"
      ]
    },
    {
      "cell_type": "code",
      "execution_count": null,
      "metadata": {
        "id": "7pkgZW_Soc0o"
      },
      "outputs": [],
      "source": [
        "import os\n",
        "import shutil\n",
        "import random"
      ]
    },
    {
      "cell_type": "code",
      "execution_count": null,
      "metadata": {
        "colab": {
          "base_uri": "https://localhost:8080/"
        },
        "id": "ihPLiGDGoJIs",
        "outputId": "3580212c-7fc3-4f76-826e-244b14770e83"
      },
      "outputs": [
        {
          "name": "stdout",
          "output_type": "stream",
          "text": [
            "['고프코어', 'casual', 'minimal', 'workwear', 'girlish', 'sporty', 'chic', 'romantic', 'retro', 'street', 'cityboy', 'classic']\n"
          ]
        }
      ],
      "source": [
        "folder_name = \"/content/drive/MyDrive/YBIGTA 신입플/NBD\"\n",
        "subfolders = [f.name for f in os.scandir(folder_name) if f.is_dir()]\n",
        "print(subfolders)"
      ]
    },
    {
      "cell_type": "code",
      "execution_count": null,
      "metadata": {
        "colab": {
          "base_uri": "https://localhost:8080/"
        },
        "id": "W84xEcfzoiio",
        "outputId": "3246b604-43f6-4bbd-94ae-376064bf84e8"
      },
      "outputs": [
        {
          "name": "stdout",
          "output_type": "stream",
          "text": [
            "Total number of files in 고프코어: 1601\n",
            "Total number of files in casual: 1600\n",
            "Total number of files in minimal: 1600\n",
            "Total number of files in workwear: 1600\n",
            "Total number of files in girlish: 1600\n",
            "Total number of files in sporty: 1600\n",
            "Total number of files in chic: 1600\n",
            "Total number of files in romantic: 1611\n",
            "Total number of files in retro: 1600\n",
            "Total number of files in street: 1600\n",
            "Total number of files in cityboy: 1600\n",
            "Total number of files in classic: 1600\n"
          ]
        }
      ],
      "source": [
        "# Seeing how many images exist in each folder\n",
        "for folder in subfolders:\n",
        "  file_count = len([name for name in os.listdir(folder_name+\"/\"+folder) if os.path.isfile(os.path.join(folder_name+\"/\"+folder, name))])\n",
        "  print(f'Total number of files in {folder}: {file_count}')"
      ]
    },
    {
      "cell_type": "code",
      "execution_count": null,
      "metadata": {
        "id": "V0kHOvY8pHBZ"
      },
      "outputs": [],
      "source": [
        "train_path = \"/content/drive/MyDrive/YBIGTA 신입플/Datasets/NB_train\"\n",
        "val_path = \"/content/drive/MyDrive/YBIGTA 신입플/Datasets/NB_val\"\n",
        "test_path = \"/content/drive/MyDrive/YBIGTA 신입플/Datasets/NB_test\"\n",
        "# This creates our train and test dataset folder\n",
        "os.makedirs(train_path, exist_ok = True)\n",
        "os.makedirs(val_path, exist_ok = True)\n",
        "os.makedirs(test_path, exist_ok = True)"
      ]
    },
    {
      "cell_type": "code",
      "execution_count": null,
      "metadata": {
        "id": "MZ9rJd69qbiG"
      },
      "outputs": [],
      "source": [
        "train_ratio = 0.7\n",
        "val_ratio= 0.15\n",
        "limit = 1000\n",
        "\n",
        "for folder in subfolders:\n",
        "    folder_path = os.path.join(folder_name, folder)\n",
        "    images = os.listdir(folder_path)\n",
        "    random.shuffle(images)\n",
        "    images = images[:limit]\n",
        "\n",
        "    train_split = int(len(images) * train_ratio)\n",
        "    val_split = int(len(images) * (train_ratio + val_ratio))\n",
        "\n",
        "    train_images = images[:train_split]\n",
        "    val_images = images[train_split:val_split]\n",
        "    test_images = images[val_split:]\n",
        "\n",
        "    train_folder_path = os.path.join(train_path, folder)\n",
        "    val_folder_path = os.path.join(val_path, folder)\n",
        "    test_folder_path = os.path.join(test_path, folder)\n",
        "\n",
        "    train_exist = os.path.exists(train_folder_path)\n",
        "    val_exist = os.path.exists(val_folder_path)\n",
        "    test_exist = os.path.exists(test_folder_path)\n",
        "\n",
        "    os.makedirs(train_folder_path, exist_ok=True)\n",
        "    os.makedirs(val_folder_path, exist_ok=True)\n",
        "    os.makedirs(test_folder_path, exist_ok=True)\n",
        "\n",
        "    if not train_exist:\n",
        "        for image in train_images:\n",
        "            source = os.path.join(folder_path, image)\n",
        "            destination = os.path.join(train_folder_path, image)\n",
        "            shutil.copy(source, destination)\n",
        "\n",
        "    if not val_exist:\n",
        "        for image in val_images:\n",
        "            source = os.path.join(folder_path, image)\n",
        "            destination = os.path.join(val_folder_path, image)\n",
        "            shutil.copy(source, destination)\n",
        "\n",
        "    if not test_exist:\n",
        "        for image in test_images:\n",
        "            source = os.path.join(folder_path, image)\n",
        "            destination = os.path.join(test_folder_path, image)\n",
        "            shutil.copy(source, destination)"
      ]
    },
    {
      "cell_type": "code",
      "execution_count": null,
      "metadata": {
        "colab": {
          "base_uri": "https://localhost:8080/"
        },
        "id": "Oft6pYi6vXhE",
        "outputId": "fa938180-ecb6-4d4a-b396-0d526c1900e8"
      },
      "outputs": [
        {
          "name": "stdout",
          "output_type": "stream",
          "text": [
            "Total number of files in 고프코어: 700\n",
            "Total number of files in casual: 700\n",
            "Total number of files in minimal: 700\n",
            "Total number of files in workwear: 700\n",
            "Total number of files in girlish: 700\n",
            "Total number of files in sporty: 700\n",
            "Total number of files in chic: 700\n",
            "Total number of files in romantic: 700\n",
            "Total number of files in retro: 700\n",
            "Total number of files in street: 700\n",
            "Total number of files in cityboy: 700\n",
            "Total number of files in classic: 700\n",
            "Total number of files in 고프코어: 150\n",
            "Total number of files in casual: 150\n",
            "Total number of files in minimal: 150\n",
            "Total number of files in workwear: 150\n",
            "Total number of files in girlish: 150\n",
            "Total number of files in sporty: 150\n",
            "Total number of files in chic: 150\n",
            "Total number of files in romantic: 150\n",
            "Total number of files in retro: 150\n",
            "Total number of files in street: 150\n",
            "Total number of files in cityboy: 150\n",
            "Total number of files in classic: 150\n",
            "Total number of files in 고프코어: 150\n",
            "Total number of files in casual: 150\n",
            "Total number of files in minimal: 150\n",
            "Total number of files in workwear: 150\n",
            "Total number of files in girlish: 150\n",
            "Total number of files in sporty: 150\n",
            "Total number of files in chic: 150\n",
            "Total number of files in romantic: 150\n",
            "Total number of files in retro: 150\n",
            "Total number of files in street: 150\n",
            "Total number of files in cityboy: 150\n",
            "Total number of files in classic: 150\n"
          ]
        }
      ],
      "source": [
        "# Testing to see if it's split properly\n",
        "ha = [\"NB_train\", \"NB_val\",\"NB_test\"]\n",
        "for i in ha:\n",
        "    dataset_folder = f\"/content/drive/MyDrive/YBIGTA 신입플/Datasets/{i}\"\n",
        "    dataset_subfolder = [f.name for f in os.scandir(dataset_folder) if f.is_dir()]\n",
        "    for folder in dataset_subfolder:\n",
        "        file_count = len([name for name in os.listdir(dataset_folder+\"/\"+folder) if os.path.isfile(os.path.join(dataset_folder+\"/\"+folder, name))])\n",
        "        print(f'Total number of files in {folder}: {file_count}')"
      ]
    }
  ],
  "metadata": {
    "colab": {
      "provenance": []
    },
    "kernelspec": {
      "display_name": "Python 3",
      "name": "python3"
    },
    "language_info": {
      "name": "python"
    }
  },
  "nbformat": 4,
  "nbformat_minor": 0
}